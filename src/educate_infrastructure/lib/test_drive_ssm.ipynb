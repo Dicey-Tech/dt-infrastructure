{
 "metadata": {
  "language_info": {
   "codemirror_mode": {
    "name": "ipython",
    "version": 3
   },
   "file_extension": ".py",
   "mimetype": "text/x-python",
   "name": "python",
   "nbconvert_exporter": "python",
   "pygments_lexer": "ipython3",
   "version": "3.8.5-final"
  },
  "orig_nbformat": 2,
  "kernelspec": {
   "name": "python3",
   "display_name": "Python 3.8.5 64-bit ('venv')",
   "metadata": {
    "interpreter": {
     "hash": "ac1846f93292fd1abd55cc9f8cadec6033f6b545b78cc3fecf1af70a311aa0eb"
    }
   }
  }
 },
 "nbformat": 4,
 "nbformat_minor": 2,
 "cells": [
  {
   "cell_type": "code",
   "execution_count": null,
   "metadata": {},
   "outputs": [],
   "source": [
    "import boto3\n",
    "\n",
    "instand_id = \"i-01d58ae6e1693c72f\"\n",
    "cmd1 = \"echo 'Start running services'\"\n",
    "cmd2 = 'whoami'\n",
    "\n",
    "ssm = boto3.client(\"ssm\")"
   ]
  },
  {
   "cell_type": "code",
   "execution_count": null,
   "metadata": {},
   "outputs": [],
   "source": [
    "response = ssm.send_command(InstanceIds=[instand_id], DocumentName='AWS-RunShellScript', Parameters={\"commands\": [cmd1, cmd2]})\n",
    "command_id = response.get('Command', {}).get(\"CommandId\", None)"
   ]
  },
  {
   "cell_type": "code",
   "execution_count": null,
   "metadata": {},
   "outputs": [],
   "source": [
    "ret = ssm.list_command_invocations(CommandId=command_id, Details=True)['CommandInvocations'][0]\n",
    "if ret[\"Status\"] == \"Success\":\n",
    "    command_plugin = ret['CommandPlugins'][-1]\n",
    "    output = command_plugin['Output']\n",
    "    print(f\"Complete running, output: {output}\")"
   ]
  },
  {
   "cell_type": "code",
   "execution_count": null,
   "metadata": {},
   "outputs": [],
   "source": []
  }
 ]
}