{
 "metadata": {
  "language_info": {
   "codemirror_mode": {
    "name": "ipython",
    "version": 3
   },
   "file_extension": ".py",
   "mimetype": "text/x-python",
   "name": "python",
   "nbconvert_exporter": "python",
   "pygments_lexer": "ipython3",
   "version": "3.8.6-final"
  },
  "orig_nbformat": 2,
  "kernelspec": {
   "name": "python3",
   "display_name": "Python 3",
   "language": "python"
  }
 },
 "nbformat": 4,
 "nbformat_minor": 2,
 "cells": [
  {
   "cell_type": "code",
   "execution_count": 16,
   "metadata": {},
   "outputs": [],
   "source": [
    "import boto3\n",
    "\n",
    "instand_id = \"i-0bba927d604b704ae\"\n",
    "\n",
    "commands = [\n",
    "    \"/bin/bash\",\n",
    "    \"runuser -l ubuntu -c \\\"cd ~ && touch test_run.log\\\"\",\n",
    "    \"sudo nohup ./home/ubuntu/edx.platform-install.sh &\",\n",
    "]\n",
    "\n",
    "ssm = boto3.client(\"ssm\")"
   ]
  },
  {
   "cell_type": "code",
   "execution_count": 17,
   "metadata": {},
   "outputs": [],
   "source": [
    "response = ssm.send_command(InstanceIds=[instand_id], DocumentName='AWS-RunShellScript', Parameters={\"commands\": commands})\n",
    "command_id = response.get('Command', {}).get(\"CommandId\", None)"
   ]
  },
  {
   "cell_type": "code",
   "execution_count": 7,
   "metadata": {},
   "outputs": [
    {
     "output_type": "error",
     "ename": "IndexError",
     "evalue": "list index out of range",
     "traceback": [
      "\u001b[0;31m---------------------------------------------------------------------------\u001b[0m",
      "\u001b[0;31mIndexError\u001b[0m                                Traceback (most recent call last)",
      "\u001b[0;32m<ipython-input-7-043a426a548f>\u001b[0m in \u001b[0;36m<module>\u001b[0;34m\u001b[0m\n\u001b[0;32m----> 1\u001b[0;31m \u001b[0mret\u001b[0m \u001b[0;34m=\u001b[0m \u001b[0mssm\u001b[0m\u001b[0;34m.\u001b[0m\u001b[0mlist_command_invocations\u001b[0m\u001b[0;34m(\u001b[0m\u001b[0mCommandId\u001b[0m\u001b[0;34m=\u001b[0m\u001b[0mcommand_id\u001b[0m\u001b[0;34m,\u001b[0m \u001b[0mDetails\u001b[0m\u001b[0;34m=\u001b[0m\u001b[0;32mTrue\u001b[0m\u001b[0;34m)\u001b[0m\u001b[0;34m[\u001b[0m\u001b[0;34m'CommandInvocations'\u001b[0m\u001b[0;34m]\u001b[0m\u001b[0;34m[\u001b[0m\u001b[0;36m0\u001b[0m\u001b[0;34m]\u001b[0m\u001b[0;34m\u001b[0m\u001b[0;34m\u001b[0m\u001b[0m\n\u001b[0m\u001b[1;32m      2\u001b[0m \u001b[0;32mif\u001b[0m \u001b[0mret\u001b[0m\u001b[0;34m[\u001b[0m\u001b[0;34m\"Status\"\u001b[0m\u001b[0;34m]\u001b[0m \u001b[0;34m==\u001b[0m \u001b[0;34m\"Success\"\u001b[0m\u001b[0;34m:\u001b[0m\u001b[0;34m\u001b[0m\u001b[0;34m\u001b[0m\u001b[0m\n\u001b[1;32m      3\u001b[0m     \u001b[0mcommand_plugin\u001b[0m \u001b[0;34m=\u001b[0m \u001b[0mret\u001b[0m\u001b[0;34m[\u001b[0m\u001b[0;34m'CommandPlugins'\u001b[0m\u001b[0;34m]\u001b[0m\u001b[0;34m[\u001b[0m\u001b[0;34m-\u001b[0m\u001b[0;36m1\u001b[0m\u001b[0;34m]\u001b[0m\u001b[0;34m\u001b[0m\u001b[0;34m\u001b[0m\u001b[0m\n\u001b[1;32m      4\u001b[0m     \u001b[0moutput\u001b[0m \u001b[0;34m=\u001b[0m \u001b[0mcommand_plugin\u001b[0m\u001b[0;34m[\u001b[0m\u001b[0;34m'Output'\u001b[0m\u001b[0;34m]\u001b[0m\u001b[0;34m\u001b[0m\u001b[0;34m\u001b[0m\u001b[0m\n\u001b[1;32m      5\u001b[0m     \u001b[0mprint\u001b[0m\u001b[0;34m(\u001b[0m\u001b[0;34mf\"Complete running, output: {output}\"\u001b[0m\u001b[0;34m)\u001b[0m\u001b[0;34m\u001b[0m\u001b[0;34m\u001b[0m\u001b[0m\n",
      "\u001b[0;31mIndexError\u001b[0m: list index out of range"
     ]
    }
   ],
   "source": [
    "ret = ssm.list_command_invocations(CommandId=command_id, Details=True)['CommandInvocations'][0]\n",
    "if ret[\"Status\"] == \"Success\":\n",
    "    command_plugin = ret['CommandPlugins'][-1]\n",
    "    output = command_plugin['Output']\n",
    "    print(f\"Complete running, output: {output}\")"
   ]
  },
  {
   "cell_type": "code",
   "execution_count": 4,
   "metadata": {},
   "outputs": [],
   "source": [
    "ret = ssm.list_command_invocations(CommandId='cee09b53-3be5-4433-ad65-27ba5a83f3c5', Details=True)['CommandInvocations'][0]\n",
    "if ret[\"Status\"] == \"Success\":\n",
    "    command_plugin = ret['CommandPlugins'][-1]\n",
    "    output = command_plugin['Output']\n",
    "    print(f\"Complete running, output: {output}\")"
   ]
  },
  {
   "cell_type": "code",
   "execution_count": null,
   "metadata": {},
   "outputs": [],
   "source": []
  }
 ]
}